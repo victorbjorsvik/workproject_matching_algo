{
 "cells": [
  {
   "cell_type": "code",
   "execution_count": null,
   "metadata": {},
   "outputs": [],
   "source": [
    "import sqlite3\n",
    "import os\n",
    "from openai import OpenAI \n",
    "\n",
    "# Connect to DB\n",
    "DATABASE = os.path.join('user_interface', 'skills.db')\n",
    "def get_db():\n",
    "    db = sqlite3.connect(DATABASE)\n",
    "    db.execute('PRAGMA foreign_keys = ON;')\n",
    "    return db\n",
    "\n",
    "## Set the API key and model name\n",
    "MODEL=\"gpt-4o-mini\"\n",
    "client = OpenAI(api_key=os.getenv(\"OPENAI_API_KEY\", \"<your OpenAI API key if not set as an env var>\"))"
   ]
  },
  {
   "cell_type": "code",
   "execution_count": 10,
   "metadata": {},
   "outputs": [],
   "source": [
    "db = get_db()\n",
    "cursor = db.cursor()\n",
    "cursor.execute(\"SELECT * FROM applicants\")\n",
    "applicants = cursor.fetchall()"
   ]
  },
  {
   "cell_type": "code",
   "execution_count": 11,
   "metadata": {},
   "outputs": [
    {
     "data": {
      "text/plain": [
       "[('[\"finance\", \"business\", \"visualization\", \"design\", \"machine learning\", \"modelling\", \"data analysis\", \"python\", \"marketing\", \"operations research\", \"database\", \"data quality\", \"analytics\", \"agile project management\", \"training model\", \"computer engineering\", \"relational database\", \"oracle\", \"collaboration\", \"communications\", \"data science\"]',)]"
      ]
     },
     "execution_count": 11,
     "metadata": {},
     "output_type": "execute_result"
    }
   ],
   "source": [
    "cursor.execute(\"SELECT required_skills FROM job_postings\")\n",
    "required_skills = cursor.fetchall()\n",
    "required_skills"
   ]
  },
  {
   "cell_type": "markdown",
   "metadata": {},
   "source": [
    "## Tailored interview Questions"
   ]
  },
  {
   "cell_type": "code",
   "execution_count": 12,
   "metadata": {},
   "outputs": [],
   "source": [
    "completion = client.chat.completions.create(\n",
    "  model=MODEL,\n",
    "  messages=[\n",
    "    {\"role\": \"system\", \"content\": \"You are a helpful recruiting assistant. We have a list of candidates we want to interview for a job and we want to tailor interview questions to their skills.\"}, # <-- This is the system message that provides context to the model\n",
    "    {\"role\": \"user\", \"content\": f\"Hello! Based on the following candidates: {applicants}, could you make a list of 5 interview questions for all of them based on their total pool of skills and how it relates to the skills required of the job - here: {required_skills} \"}  # <-- This is the user message for which the model will generate a response\n",
    "  ]\n",
    ")"
   ]
  },
  {
   "cell_type": "code",
   "execution_count": 13,
   "metadata": {},
   "outputs": [
    {
     "data": {
      "text/markdown": [
       "Certainly! Based on the skills listed for each candidate and the required skills for the job, here are five tailored interview questions for all candidates:\n",
       "\n",
       "1. **Data Analysis and Visualization:** \n",
       "   - \"Can you describe a project where you applied data analysis techniques to derive insights? What tools did you use for visualization, and how did those insights influence decision-making?\"\n",
       "\n",
       "2. **Machine Learning and Modeling:** \n",
       "   - \"Given your experience with machine learning and modeling, could you walk us through a specific example of a machine learning project you worked on? What challenges did you face during the modeling process and how did you address them?\"\n",
       "\n",
       "3. **Collaboration and Communication:** \n",
       "   - \"Effective collaboration is key in our work environment. Can you provide an example of how you worked with a team to achieve a common goal? What role did communication play in your project’s success?\"\n",
       "\n",
       "4. **Project Management and Agile Methodologies:** \n",
       "   - \"How do you approach project management, especially in agile environments? Can you share an experience where you had to adapt your project plan or priorities based on evolving insights or stakeholder feedback?\"\n",
       "\n",
       "5. **Technical Proficiency with Databases and Programming:** \n",
       "   - \"Considering your proficiency in programming languages like Python and R, as well as your experience with databases, how have you integrated these skills to improve data quality and analytics in your previous projects? Can you provide examples of how you optimized data-related processes?\"\n",
       "\n",
       "These questions are designed to assess not only the candidates' technical skills, but also their problem-solving abilities, communication skills, and adaptability—all of which are important for the position being interviewed for."
      ],
      "text/plain": [
       "<IPython.core.display.Markdown object>"
      ]
     },
     "metadata": {},
     "output_type": "display_data"
    }
   ],
   "source": [
    "from IPython.display import display, Markdown, Latex\n",
    "display(Markdown(completion.choices[0].message.content))"
   ]
  },
  {
   "cell_type": "markdown",
   "metadata": {},
   "source": [
    "## Bespoke apologies"
   ]
  },
  {
   "cell_type": "code",
   "execution_count": 14,
   "metadata": {},
   "outputs": [],
   "source": [
    "completion = client.chat.completions.create(\n",
    "  model=MODEL,\n",
    "  messages=[\n",
    "    {\"role\": \"system\", \"content\": \"You are a helpful recruiting assistant. We have a list of candidates for a job, but unfortunately none of them made it to the first round of interviews.\"}, # <-- This is the system message that provides context to the model\n",
    "    {\"role\": \"user\", \"content\": f\"\"\"Hello! Based on the following candidates: {applicants}, could you make a bespoke aplogy letter to each of them and explain that their skills were not a \n",
    "     prefect match with the required skills here:{required_skills}. For each of the applicants, please also provide them with some resources to improve the skills in which they are lacking so they have better chances in the next round of recruiting \"\"\"}  # <-- This is the user message for which the model will generate a response\n",
    "  ]\n",
    ")"
   ]
  },
  {
   "cell_type": "code",
   "execution_count": 15,
   "metadata": {},
   "outputs": [
    {
     "data": {
      "text/markdown": [
       "Sure! Below are bespoke apology letters for each candidate, explaining the mismatch in skills. Additionally, I've included resource recommendations for skill improvement. \n",
       "\n",
       "---\n",
       "\n",
       "**Letter for Hanna Pedersen:**\n",
       "\n",
       "Subject: Thank You for Your Application\n",
       "\n",
       "Dear Hanna,\n",
       "\n",
       "I hope this message finds you well. Thank you for applying for the position with us and for your interest in our company. After carefully reviewing your application, we regret to inform you that you have not been selected for the next round of interviews.\n",
       "\n",
       "While your experience in business, analytics, and various areas of data analysis are impressive, we found that some of the key skills we require, such as advanced proficiency in design, data quality, and relational databases, were not a perfect match with your profile.\n",
       "\n",
       "To enhance your qualifications for future opportunities, I recommend the following resources:\n",
       "\n",
       "1. **Coursera - Data Quality Essentials**: This course will provide you with a foundational understanding of data quality management.\n",
       "2. **LinkedIn Learning - Designing Data Reports**: Learn the principles of effective data visualization and design for impactful reporting.\n",
       "3. **udacity - Relational Databases for Beginners**: This will help you grasp the concepts of relational databases which are crucial in many data-centric roles.\n",
       "\n",
       "Thank you again for your application. We appreciate your efforts and hope to see you apply for future opportunities.\n",
       "\n",
       "Best regards,\n",
       "\n",
       "[Your Name]  \n",
       "[Your Position]  \n",
       "[Your Company]  \n",
       "\n",
       "---\n",
       "\n",
       "**Letter for Irene Abbateli:**\n",
       "\n",
       "Subject: Thank You for Your Application\n",
       "\n",
       "Dear Irene,\n",
       "\n",
       "Thank you for your application and for your interest in joining our team. After a thorough review, we regret to inform you that we will not be moving forward with your application at this time.\n",
       "\n",
       "Your qualifications in data analysis, machine learning, and business administration are commendable; however, we noticed that the skills we prioritize—particularly in areas like finance, data quality, and advanced analytics—were not fully aligned with your current experience.\n",
       "\n",
       "To assist you in strengthening these skills for future opportunities, we recommend the following resources:\n",
       "\n",
       "1. **Khan Academy - Introduction to Finance**: A great starting point for understanding the basics of finance which can be essential in data roles.\n",
       "2. **edX - Data Quality Management**: This course offers insights into the importance of data quality and how to manage it effectively.\n",
       "3. **Datacamp - Advanced Data Analysis in Python**: This platform has practical courses focused on enhancing your analytical skills.\n",
       "\n",
       "We appreciate the time you invested in your application and encourage you to apply again in the future.\n",
       "\n",
       "Sincerely,\n",
       "\n",
       "[Your Name]  \n",
       "[Your Position]  \n",
       "[Your Company]  \n",
       "\n",
       "---\n",
       "\n",
       "**Letter for Luca Oeztekin:**\n",
       "\n",
       "Subject: Thank You for Your Application\n",
       "\n",
       "Dear Luca,\n",
       "\n",
       "I hope this note finds you well. I’d like to express our gratitude for your application and interest in the position with us. After careful consideration, we regret to inform you that we will not be proceeding with your application at this time.\n",
       "\n",
       "Your skills in API, database management, and data science are certainly impressive. However, there were certain key competencies, particularly in finance, design, and machine learning, that did not align perfectly with our requirements.\n",
       "\n",
       "We believe that furthering your skills in these areas will greatly enhance your future applications, and I would like to suggest the following resources:\n",
       "\n",
       "1. **LinkedIn Learning - Introduction to Financial Modeling**: A solid resource to understand financial projections and modeling.\n",
       "2. **Coursera - Applied Machine Learning in Python**: A course that focuses on practical applications of machine learning.\n",
       "3. **Udacity - Data Visualization for Beginners**: This will help you learn how to create effective data visualizations.\n",
       "\n",
       "Thank you once again for your application. We wish you the best and encourage you to consider applying for future roles.\n",
       "\n",
       "Warm regards,\n",
       "\n",
       "[Your Name]  \n",
       "[Your Position]  \n",
       "[Your Company]  \n",
       "\n",
       "---\n",
       "\n",
       "**Letter for Tim Gunkel:**\n",
       "\n",
       "Subject: Thank You for Your Application\n",
       "\n",
       "Dear Tim,\n",
       "\n",
       "Thank you for your interest in the role and for the time you dedicated in your application. After reviewing your profile, we regret to inform you that we have chosen not to move forward with your application to the next round of interviews.\n",
       "\n",
       "While your background in analytics and machine learning is impressive, there were specific skills, particularly in areas such as finance, data quality, and design, that did not align closely with our current needs.\n",
       "\n",
       "To help you develop these skills for future opportunities, I recommend the following resources:\n",
       "\n",
       "1. **edX - Finance Essentials for Managers**: A concise introduction to financial principles that can accelerate your understanding.\n",
       "2. **Coursera - Improving Data Quality and Considerations for Analysis**: This course will help bridge the gap in your knowledge of data quality.\n",
       "3. **Udemy - User Experience Design Essentials**: Improving your design skills will benefit your profile significantly for data roles.\n",
       "\n",
       "We appreciate your efforts and encourage you to reapply as opportunities arise in the future.\n",
       "\n",
       "Best wishes,\n",
       "\n",
       "[Your Name]  \n",
       "[Your Position]  \n",
       "[Your Company]  \n",
       "\n",
       "---\n",
       "\n",
       "**Letter for Victor Bjorsvik:**\n",
       "\n",
       "Subject: Thank You for Your Application\n",
       "\n",
       "Dear Victor,\n",
       "\n",
       "I hope you are doing well. Thank you for applying for the recent position and for showing interest in our organization. After a thorough evaluation, we regret to inform you that we will not be advancing your application to the next round.\n",
       "\n",
       "Your experience in data science, machine learning, and business analytics is highly commendable. However, we found that certain essential skills, particularly in finance, design, and data quality assurance, were not fully aligned with our requirements.\n",
       "\n",
       "To assist you in building these valuable skills, I recommend the following resources:\n",
       "\n",
       "1. **Coursera - Finance for Non-Financial Managers**: Learn key financial concepts that are often required in data-centric roles.\n",
       "2. **DataCamp - Data Quality Fundamentals**: This will provide you with insights into managing and ensuring data quality.\n",
       "3. **LinkedIn Learning - UX Design Techniques**: Focusing on design can broaden your analytical skill set.\n",
       "\n",
       "Thank you once again for your application, and we encourage you to apply for other opportunities with us in the future.\n",
       "\n",
       "Kind regards,\n",
       "\n",
       "[Your Name]  \n",
       "[Your Position]  \n",
       "[Your Company]  \n",
       "\n",
       "--- \n",
       "\n",
       "Feel free to customize further based on your needs!"
      ],
      "text/plain": [
       "<IPython.core.display.Markdown object>"
      ]
     },
     "metadata": {},
     "output_type": "display_data"
    }
   ],
   "source": [
    "from IPython.display import display, Markdown, Latex\n",
    "display(Markdown(completion.choices[0].message.content))"
   ]
  }
 ],
 "metadata": {
  "kernelspec": {
   "display_name": "workproject",
   "language": "python",
   "name": "workproject"
  },
  "language_info": {
   "codemirror_mode": {
    "name": "ipython",
    "version": 3
   },
   "file_extension": ".py",
   "mimetype": "text/x-python",
   "name": "python",
   "nbconvert_exporter": "python",
   "pygments_lexer": "ipython3",
   "version": "3.11.9"
  }
 },
 "nbformat": 4,
 "nbformat_minor": 2
}
