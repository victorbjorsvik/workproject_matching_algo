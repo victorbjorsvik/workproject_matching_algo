{
 "cells": [
  {
   "cell_type": "code",
   "execution_count": 1,
   "metadata": {},
   "outputs": [
    {
     "name": "stderr",
     "output_type": "stream",
     "text": [
      "c:\\Users\\victo\\anaconda3\\envs\\workproject\\Lib\\site-packages\\sentence_transformers\\cross_encoder\\CrossEncoder.py:13: TqdmExperimentalWarning: Using `tqdm.autonotebook.tqdm` in notebook mode. Use `tqdm.tqdm` instead to force console mode (e.g. in jupyter console)\n",
      "  from tqdm.autonotebook import tqdm, trange\n"
     ]
    }
   ],
   "source": [
    "import pandas as pd\n",
    "from sentence_transformers import SentenceTransformer\n",
    "from sklearn.metrics.pairwise import cosine_similarity"
   ]
  },
  {
   "cell_type": "code",
   "execution_count": 7,
   "metadata": {},
   "outputs": [
    {
     "name": "stderr",
     "output_type": "stream",
     "text": [
      "c:\\Users\\victo\\anaconda3\\envs\\workproject\\Lib\\site-packages\\transformers\\tokenization_utils_base.py:1601: FutureWarning: `clean_up_tokenization_spaces` was not set. It will be set to `True` by default. This behavior will be depracted in transformers v4.45, and will be then set to `False` by default. For more details check this issue: https://github.com/huggingface/transformers/issues/31884\n",
      "  warnings.warn(\n"
     ]
    }
   ],
   "source": [
    "# Initialize the model once outside the loop for efficiency\n",
    "model = SentenceTransformer('all-mpnet-base-v2')"
   ]
  },
  {
   "cell_type": "code",
   "execution_count": 10,
   "metadata": {},
   "outputs": [],
   "source": [
    "job_embeddings = model.encode(\"python\")\n",
    "\n",
    "cand_emded = model.encode(\"javascript\")\n",
    "\n",
    "joker = model.encode(\"rattlesnake\")"
   ]
  },
  {
   "cell_type": "code",
   "execution_count": 11,
   "metadata": {},
   "outputs": [
    {
     "name": "stdout",
     "output_type": "stream",
     "text": [
      "[[0.55302155]]\n",
      "[[0.32219467]]\n"
     ]
    }
   ],
   "source": [
    "print(cosine_similarity(job_embeddings.reshape(1,-1), cand_emded.reshape(1,-1)))\n",
    "print(cosine_similarity(job_embeddings.reshape(1,-1), joker.reshape(1,-1)))"
   ]
  },
  {
   "cell_type": "code",
   "execution_count": 25,
   "metadata": {},
   "outputs": [],
   "source": [
    "job_embeddings = model.encode(\"python,c++,julia,oracle\")\n",
    "\n",
    "cand_emded = model.encode(\"rust,go,sql,php\")\n",
    "\n",
    "joker = model.encode(\"crocodile,lizard,boa,rattlesnake\")"
   ]
  },
  {
   "cell_type": "code",
   "execution_count": 26,
   "metadata": {},
   "outputs": [
    {
     "name": "stdout",
     "output_type": "stream",
     "text": [
      "[[0.34695765]]\n",
      "[[0.11074138]]\n"
     ]
    }
   ],
   "source": [
    "print(cosine_similarity(job_embeddings.reshape(1,-1), cand_emded.reshape(1,-1)))\n",
    "print(cosine_similarity(job_embeddings.reshape(1,-1), joker.reshape(1,-1)))"
   ]
  },
  {
   "cell_type": "code",
   "execution_count": 4,
   "metadata": {},
   "outputs": [],
   "source": [
    "import gensim"
   ]
  },
  {
   "cell_type": "code",
   "execution_count": 5,
   "metadata": {},
   "outputs": [
    {
     "name": "stdout",
     "output_type": "stream",
     "text": [
      "Most similar words to 'Python':\n",
      "learning: 0.2707\n",
      "can: 0.2106\n",
      "processing: 0.1672\n",
      "languages: 0.1503\n",
      "popular: 0.1321\n"
     ]
    }
   ],
   "source": [
    "from gensim.models import Word2Vec\n",
    "\n",
    "# Example corpus for training\n",
    "corpus = [\n",
    "    [\"Python\", \"is\", \"a\", \"popular\", \"programming\", \"language\"],\n",
    "    [\"Java\", \"and\", \"C++\", \"are\", \"also\", \"programming\", \"languages\"],\n",
    "    [\"Python\", \"can\", \"be\", \"used\", \"for\", \"machine\", \"learning\"],\n",
    "    [\"Gensim\", \"is\", \"a\", \"library\", \"for\", \"natural\", \"language\", \"processing\"],\n",
    "]\n",
    "\n",
    "# Train a Word2Vec model\n",
    "model = Word2Vec(sentences=corpus, vector_size=50, window=3, min_count=1, workers=4)\n",
    "\n",
    "# Find most similar words to \"Python\"\n",
    "similar_words = model.wv.most_similar(\"Python\", topn=5)\n",
    "\n",
    "# Display the similar words\n",
    "print(\"Most similar words to 'Python':\")\n",
    "for word, similarity in similar_words:\n",
    "    print(f\"{word}: {similarity:.4f}\")\n"
   ]
  },
  {
   "cell_type": "code",
   "execution_count": null,
   "metadata": {},
   "outputs": [
    {
     "name": "stdout",
     "output_type": "stream",
     "text": [
      "[==================================================] 100.0% 1662.8/1662.8MB downloaded\n",
      "Word 'sus' is in the model.\n"
     ]
    }
   ],
   "source": [
    "import gensim.downloader as api\n",
    "\n",
    "# Download the Google News vectors\n",
    "model = api.load(\"word2vec-google-news-300\")"
   ]
  },
  {
   "cell_type": "code",
   "execution_count": 7,
   "metadata": {},
   "outputs": [
    {
     "name": "stdout",
     "output_type": "stream",
     "text": [
      "pythons: 0.6688377857208252\n",
      "Burmese_python: 0.6680364608764648\n",
      "snake: 0.6606292724609375\n",
      "crocodile: 0.6591362953186035\n",
      "boa_constrictor: 0.6443519592285156\n",
      "alligator: 0.6421656608581543\n",
      "reptile: 0.6387744545936584\n",
      "albino_python: 0.6158879995346069\n",
      "croc: 0.6083583831787109\n",
      "lizard: 0.6013416647911072\n"
     ]
    }
   ],
   "source": [
    "if 'python' in model:\n",
    "    similar_words = model.most_similar('python', topn=10)\n",
    "    for word, similarity in similar_words:\n",
    "        print(f\"{word}: {similarity}\")\n",
    "else:\n",
    "    print(\"Word 'python' is not in the vocabulary.\")"
   ]
  },
  {
   "cell_type": "code",
   "execution_count": 9,
   "metadata": {},
   "outputs": [],
   "source": [
    "similar_words = model.most_similar('BERT', topn=10)"
   ]
  },
  {
   "cell_type": "code",
   "execution_count": 1,
   "metadata": {},
   "outputs": [
    {
     "ename": "NameError",
     "evalue": "name 'similar_words' is not defined",
     "output_type": "error",
     "traceback": [
      "\u001b[1;31m---------------------------------------------------------------------------\u001b[0m",
      "\u001b[1;31mNameError\u001b[0m                                 Traceback (most recent call last)",
      "Cell \u001b[1;32mIn[1], line 1\u001b[0m\n\u001b[1;32m----> 1\u001b[0m \u001b[38;5;28;01mfor\u001b[39;00m word, similarity \u001b[38;5;129;01min\u001b[39;00m similar_words:\n\u001b[0;32m      2\u001b[0m         \u001b[38;5;28mprint\u001b[39m(\u001b[38;5;124mf\u001b[39m\u001b[38;5;124m\"\u001b[39m\u001b[38;5;132;01m{\u001b[39;00mword\u001b[38;5;132;01m}\u001b[39;00m\u001b[38;5;124m: \u001b[39m\u001b[38;5;132;01m{\u001b[39;00msimilarity\u001b[38;5;132;01m}\u001b[39;00m\u001b[38;5;124m\"\u001b[39m)\n",
      "\u001b[1;31mNameError\u001b[0m: name 'similar_words' is not defined"
     ]
    }
   ],
   "source": [
    "for word, similarity in similar_words:\n",
    "        print(f\"{word}: {similarity}\")"
   ]
  },
  {
   "cell_type": "code",
   "execution_count": null,
   "metadata": {},
   "outputs": [
    {
     "name": "stderr",
     "output_type": "stream",
     "text": [
      "/usr/bin/bash: line 2: wget: command not found\n"
     ]
    },
    {
     "name": "stdout",
     "output_type": "stream",
     "text": [
      "Archive:  glove.6B.zip\n",
      "  inflating: glove.6B/glove.6B.50d.txt  \n",
      "  inflating: glove.6B/glove.6B.100d.txt  \n",
      "  inflating: glove.6B/glove.6B.200d.txt  \n",
      "  inflating: glove.6B/glove.6B.300d.txt  \n"
     ]
    }
   ],
   "source": [
    "%%bash\n",
    "# Download the GloVe embeddings\n",
    "wget http://nlp.stanford.edu/data/glove.6B.zip\n",
    "\n",
    "# Extract the GloVe embeddings\n",
    "unzip glove.6B.zip -d glove.6B"
   ]
  },
  {
   "cell_type": "code",
   "execution_count": 10,
   "metadata": {},
   "outputs": [],
   "source": [
    "import os\n",
    "from gensim.models.keyedvectors import KeyedVectors\n",
    "\n",
    "# Convert GloVe format to Gensim format\n",
    "def load_glove_model(glove_file):\n",
    "    glove_vectors = KeyedVectors.load_word2vec_format(glove_file, binary=False, no_header=True)\n",
    "    return glove_vectors\n",
    "\n",
    "# Load the 300-dimensional GloVe vectors\n",
    "glove_file = os.path.join(\"glove.6B\", \"glove.6B.300d.txt\")\n",
    "glove_model = load_glove_model(glove_file)\n"
   ]
  },
  {
   "cell_type": "code",
   "execution_count": 11,
   "metadata": {},
   "outputs": [
    {
     "name": "stdout",
     "output_type": "stream",
     "text": [
      "Words similar to 'python':\n",
      "monty: 0.6837380528450012\n",
      "perl: 0.519283652305603\n",
      "cleese: 0.5092198252677917\n",
      "pythons: 0.5007115006446838\n",
      "php: 0.4942314028739929\n",
      "grail: 0.4683017134666443\n",
      "scripting: 0.46761268377304077\n",
      "skit: 0.4474538266658783\n",
      "javascript: 0.4312553107738495\n",
      "spamalot: 0.43117913603782654\n"
     ]
    }
   ],
   "source": [
    "if 'python' in glove_model:\n",
    "    similar_words = glove_model.most_similar('python', topn=10)\n",
    "    print(\"Words similar to 'python':\")\n",
    "    for word, similarity in similar_words:\n",
    "        print(f\"{word}: {similarity}\")\n",
    "else:\n",
    "    print(\"Word 'python' is not in the vocabulary.\")\n"
   ]
  },
  {
   "cell_type": "code",
   "execution_count": 58,
   "metadata": {},
   "outputs": [],
   "source": [
    "def calc_similarity_sbs(applicant_df, job_df):\n",
    "    \"\"\"\"Calculate cosine simlarity based on BERT embeddings of skills\"\"\"\n",
    "\n",
    "    def semantic_similarity_sbert_base_v2(job,resume):\n",
    "        \"\"\"calculate similarity with SBERT all-mpnet-base-v2\"\"\"\n",
    "        model = SentenceTransformer('all-mpnet-base-v2')\n",
    "        model.eval()\n",
    "        #Encoding:\n",
    "        score = 0\n",
    "        sen = job+resume\n",
    "        sen_embeddings = model.encode(sen)\n",
    "        for i in range(len(job)):\n",
    "            if job[i] in resume:\n",
    "                score += 1\n",
    "            else:\n",
    "                max_cosine_sim = max(cosine_similarity([sen_embeddings[i]],sen_embeddings[len(job):])[0]) \n",
    "                if max_cosine_sim >= 0.4:\n",
    "                    score += max_cosine_sim\n",
    "        score = score/len(job)  \n",
    "        return round(score,3)\n",
    "    \n",
    "    columns = ['applicant', 'job_id', 'all-mpnet-base-v2_score']\n",
    "    matching_dataframe = pd.DataFrame(columns=columns)\n",
    "    \n",
    "    for job_index in range(job_df.shape[0]):\n",
    "        columns = ['applicant', 'job_id', 'all-mpnet-base-v2_score']\n",
    "        matching_dataframe = pd.DataFrame(columns=columns)\n",
    "        ranking_dataframe = pd.DataFrame(columns=columns)\n",
    "        \n",
    "        matching_data = []\n",
    "        \n",
    "        for applicant_id in range(applicant_df.shape[0]):\n",
    "            matching_dataframe_job = {\n",
    "                \"applicant\": applicant_df.iloc[applicant_id, 0],\n",
    "                \"job_id\": job_index,\n",
    "                \"all-mpnet-base-v2_score\": semantic_similarity_sbert_base_v2(job_df['Skills'][job_index], applicant_df['Skills'][applicant_id])\n",
    "            }\n",
    "            matching_data.append(matching_dataframe_job)\n",
    "        \n",
    "        matching_dataframe = pd.concat([matching_dataframe, pd.DataFrame(matching_data)], ignore_index=True)\n",
    "    matching_dataframe['rank'] = matching_dataframe['all-mpnet-base-v2_score'].rank(ascending=False)\n",
    "    return matching_dataframe"
   ]
  },
  {
   "cell_type": "code",
   "execution_count": 48,
   "metadata": {},
   "outputs": [],
   "source": [
    "import os\n",
    "import torch\n",
    "import torch.nn.functional as F\n",
    "from sentence_transformers import SentenceTransformer, CrossEncoder\n",
    "\n",
    "\n",
    "def calc_cross(applicant_df, job_df, N=3, parallel=False):\n",
    "    \"\"\"Calculate cosine similarity based on BERT embeddings of combined skills.\"\"\"\n",
    "\n",
    "    # Initialize the model once outside the loop for efficiency\n",
    "    model = CrossEncoder(\"cross-encoder/ms-marco-MiniLM-L-6-v2\")\n",
    "    model.max_seq_length = 30\n",
    "    model.tokenizer.padding_side=\"right\"\n",
    "\n",
    "     # Precompute job embeddings\n",
    "    job_df['Skills_Text'] = job_df['Skills'].apply(lambda x: ' '.join(sorted(set(x))) if isinstance(x, list) else '')\n",
    "    query = job_df['Skills_Text'][0]\n",
    "    # Precompute applicant embeddings\n",
    "    applicant_df['Skills_Text'] = applicant_df['Skills'].apply(lambda x: ' '.join(sorted(set(x))) if isinstance(x, list) else '')\n",
    "    applicants = applicant_df['Skills_Text'].tolist()\n",
    "\n",
    "    ranks = model.rank(\n",
    "        query,\n",
    "        applicants,\n",
    "        batch_size=32,\n",
    "        num_workers=os.cpu_count() // 2 if parallel else 0,\n",
    "        show_progress_bar=False\n",
    "    )\n",
    "\n",
    "    similarity_df = pd.DataFrame(ranks)\n",
    "    similarity_df['softmaxed'] = F.softmax(torch.tensor(similarity_df['score']))\n",
    "    similarity_df = similarity_df.join(applicant_df[[\"name\"]], on=\"corpus_id\")\n",
    "    \n",
    "    # similarity_df['interview_status'] = similarity_df.index.apply(lambda x: 'Selected' if x <= N else 'Not Selected')\n",
    "\n",
    "    return similarity_df\n"
   ]
  },
  {
   "cell_type": "code",
   "execution_count": 104,
   "metadata": {},
   "outputs": [],
   "source": [
    "def old_calc_similarity(applicant_df, job_df):\n",
    "    \"\"\"\"Calculate cosine simlarity based on BERT embeddings of skills\"\"\"\n",
    "\n",
    "    def semantic_similarity_sbert_base_v2(job,resume):\n",
    "        \"\"\"calculate similarity with SBERT all-mpnet-base-v2\"\"\"\n",
    "        model = SentenceTransformer('all-mpnet-base-v2')\n",
    "        model.eval()\n",
    "        #Encoding:\n",
    "        score = 0\n",
    "        sen = job+resume\n",
    "        sen_embeddings = model.encode(sen)\n",
    "        for i in range(len(job)):\n",
    "            if job[i] in resume:\n",
    "                score += 1\n",
    "            else:\n",
    "                max_cosine_sim = max(cosine_similarity([sen_embeddings[i]],sen_embeddings[len(job):])[0]) \n",
    "                if max_cosine_sim >= 0.4:\n",
    "                    score += max_cosine_sim\n",
    "        score = score/len(job)  \n",
    "        return round(score,3)\n",
    "    \n",
    "    columns = ['applicant', 'job_id', 'all-mpnet-base-v2_score']\n",
    "    matching_dataframe = pd.DataFrame(columns=columns)\n",
    "    \n",
    "    for job_index in range(job_df.shape[0]):\n",
    "        columns = ['applicant', 'job_id', 'all-mpnet-base-v2_score']\n",
    "        matching_dataframe = pd.DataFrame(columns=columns)\n",
    "        ranking_dataframe = pd.DataFrame(columns=columns)\n",
    "        \n",
    "        matching_data = []\n",
    "        \n",
    "        for applicant_id in range(applicant_df.shape[0]):\n",
    "            matching_dataframe_job = {\n",
    "                \"applicant\": applicant_df.iloc[applicant_id, 0],\n",
    "                \"job_id\": job_index,\n",
    "                \"all-mpnet-base-v2_score\": semantic_similarity_sbert_base_v2(job_df['Skills'][job_index], applicant_df['Skills'][applicant_id])\n",
    "            }\n",
    "            matching_data.append(matching_dataframe_job)\n",
    "        \n",
    "        matching_dataframe = pd.concat([matching_dataframe, pd.DataFrame(matching_data)], ignore_index=True)\n",
    "    matching_dataframe['rank'] = matching_dataframe['all-mpnet-base-v2_score'].rank(ascending=False)\n",
    "    return matching_dataframe"
   ]
  },
  {
   "cell_type": "code",
   "execution_count": 2,
   "metadata": {},
   "outputs": [
    {
     "name": "stderr",
     "output_type": "stream",
     "text": [
      "C:\\Users\\victo\\anaconda3\\envs\\workproject\\Lib\\site-packages\\sentence_transformers\\cross_encoder\\CrossEncoder.py:13: TqdmExperimentalWarning: Using `tqdm.autonotebook.tqdm` in notebook mode. Use `tqdm.tqdm` instead to force console mode (e.g. in jupyter console)\n",
      "  from tqdm.autonotebook import tqdm, trange\n"
     ]
    }
   ],
   "source": [
    "import os\n",
    "import torch\n",
    "from sentence_transformers import SentenceTransformer, CrossEncoder\n",
    "\n",
    "\n",
    "def calc_similarity(applicant_df, job_df, N=3, parallel=False):\n",
    "    \"\"\"Calculate cosine similarity based on BERT embeddings of combined skills.\"\"\"\n",
    "\n",
    "    # Initialize the model once outside the loop for efficiency\n",
    "    model = SentenceTransformer('all-mpnet-base-v2')\n",
    "    model.max_seq_length = 50\n",
    "    model.tokenizer.padding_side=\"right\"\n",
    "    model.eval()\n",
    "\n",
    "    def add_eos(input_examples):\n",
    "        input_examples = [input_example + model.tokenizer.eos_token for input_example in input_examples]\n",
    "        return input_examples\n",
    "\n",
    "     # Precompute job embeddings\n",
    "    job_df['Skills_Text'] = job_df['Skills'].apply(add_eos)\n",
    "    job_df['Skills_Text'] = job_df['Skills_Text'].apply(lambda x: ' '.join(sorted(set(x))) if isinstance(x, list) else '')\n",
    "    job_embeddings = model.encode(\n",
    "        job_df['Skills_Text'].tolist())\n",
    "    # Precompute applicant embeddings\n",
    "    applicant_df['Skills_Text'] = applicant_df['Skills'].apply(add_eos)\n",
    "    applicant_df['Skills_Text'] = applicant_df['Skills_Text'].apply(lambda x: ' '.join(sorted(set(x))) if isinstance(x, list) else '')\n",
    "    applicant_embeddings = model.encode(\n",
    "        applicant_df['Skills_Text'].tolist(),\n",
    "        batch_size=32,\n",
    "        num_workers=os.cpu_count() // 2 if parallel else 0,\n",
    "        show_progress_bar=False\n",
    "    )\n",
    "\n",
    "    # Compute cosine similarity matrix\n",
    "    similarity_matrix = cosine_similarity(job_embeddings, applicant_embeddings)\n",
    "\n",
    "    # Create a DataFrame from the similarity matrix\n",
    "    similarity_df = pd.DataFrame(similarity_matrix.T, index=applicant_df['name'], columns=job_df.index)\n",
    "    similarity_df = similarity_df.reset_index().melt(id_vars='name', var_name='job_id', value_name='similarity_score')\n",
    "    similarity_df['rank'] = similarity_df.groupby('job_id')['similarity_score'].rank(ascending=False)\n",
    "    similarity_df['interview_status'] = similarity_df['rank'].apply(lambda x: 'Selected' if x <= N else 'Not Selected')\n",
    "\n",
    "    return similarity_df, applicant_embeddings, job_embeddings"
   ]
  },
  {
   "cell_type": "code",
   "execution_count": 95,
   "metadata": {},
   "outputs": [
    {
     "data": {
      "text/html": [
       "<div>\n",
       "<style scoped>\n",
       "    .dataframe tbody tr th:only-of-type {\n",
       "        vertical-align: middle;\n",
       "    }\n",
       "\n",
       "    .dataframe tbody tr th {\n",
       "        vertical-align: top;\n",
       "    }\n",
       "\n",
       "    .dataframe thead th {\n",
       "        text-align: right;\n",
       "    }\n",
       "</style>\n",
       "<table border=\"1\" class=\"dataframe\">\n",
       "  <thead>\n",
       "    <tr style=\"text-align: right;\">\n",
       "      <th></th>\n",
       "      <th>name</th>\n",
       "      <th>raw</th>\n",
       "      <th>Skills</th>\n",
       "    </tr>\n",
       "  </thead>\n",
       "  <tbody>\n",
       "    <tr>\n",
       "      <th>0</th>\n",
       "      <td>1_Skill_AWS</td>\n",
       "      <td>AWS \\n</td>\n",
       "      <td>[aws]</td>\n",
       "    </tr>\n",
       "    <tr>\n",
       "      <th>1</th>\n",
       "      <td>2_Skills_AWS_Git</td>\n",
       "      <td>AWS \\nGit \\n</td>\n",
       "      <td>[aws, git]</td>\n",
       "    </tr>\n",
       "    <tr>\n",
       "      <th>2</th>\n",
       "      <td>3_Skills_AWS_Git_Python</td>\n",
       "      <td>AWS \\nGit \\nPython \\n</td>\n",
       "      <td>[aws, git, python]</td>\n",
       "    </tr>\n",
       "    <tr>\n",
       "      <th>3</th>\n",
       "      <td>3_Skills_UNRELATED_AWS_Power BI_Tableau</td>\n",
       "      <td>AWS \\nPower BI \\nTableau \\n</td>\n",
       "      <td>[aws, business intelligence, tableau]</td>\n",
       "    </tr>\n",
       "    <tr>\n",
       "      <th>4</th>\n",
       "      <td>4_Skills_AWS_Git_Python_Azure</td>\n",
       "      <td>AWS \\nGit \\nPython \\nAzure \\n</td>\n",
       "      <td>[aws, git, python, azure]</td>\n",
       "    </tr>\n",
       "  </tbody>\n",
       "</table>\n",
       "</div>"
      ],
      "text/plain": [
       "                                      name                             raw  \\\n",
       "0                              1_Skill_AWS                          AWS \\n   \n",
       "1                         2_Skills_AWS_Git                    AWS \\nGit \\n   \n",
       "2                  3_Skills_AWS_Git_Python           AWS \\nGit \\nPython \\n   \n",
       "3  3_Skills_UNRELATED_AWS_Power BI_Tableau     AWS \\nPower BI \\nTableau \\n   \n",
       "4            4_Skills_AWS_Git_Python_Azure   AWS \\nGit \\nPython \\nAzure \\n   \n",
       "\n",
       "                                  Skills  \n",
       "0                                  [aws]  \n",
       "1                             [aws, git]  \n",
       "2                     [aws, git, python]  \n",
       "3  [aws, business intelligence, tableau]  \n",
       "4              [aws, git, python, azure]  "
      ]
     },
     "execution_count": 95,
     "metadata": {},
     "output_type": "execute_result"
    }
   ],
   "source": [
    "df_resumes = main.get_resumes(\"../test_skills\")\n",
    "df_resumes = main.resume_extraction(df_resumes)\n",
    "df_resumes"
   ]
  },
  {
   "cell_type": "code",
   "execution_count": 96,
   "metadata": {},
   "outputs": [
    {
     "data": {
      "text/html": [
       "<div>\n",
       "<style scoped>\n",
       "    .dataframe tbody tr th:only-of-type {\n",
       "        vertical-align: middle;\n",
       "    }\n",
       "\n",
       "    .dataframe tbody tr th {\n",
       "        vertical-align: top;\n",
       "    }\n",
       "\n",
       "    .dataframe thead th {\n",
       "        text-align: right;\n",
       "    }\n",
       "</style>\n",
       "<table border=\"1\" class=\"dataframe\">\n",
       "  <thead>\n",
       "    <tr style=\"text-align: right;\">\n",
       "      <th></th>\n",
       "      <th>raw</th>\n",
       "      <th>Skills</th>\n",
       "    </tr>\n",
       "  </thead>\n",
       "  <tbody>\n",
       "    <tr>\n",
       "      <th>0</th>\n",
       "      <td>Senior Data Scientist, WTW, London\\n\\nFull job...</td>\n",
       "      <td>[operations research, data science, modelling,...</td>\n",
       "    </tr>\n",
       "  </tbody>\n",
       "</table>\n",
       "</div>"
      ],
      "text/plain": [
       "                                                 raw  \\\n",
       "0  Senior Data Scientist, WTW, London\\n\\nFull job...   \n",
       "\n",
       "                                              Skills  \n",
       "0  [operations research, data science, modelling,...  "
      ]
     },
     "execution_count": 96,
     "metadata": {},
     "output_type": "execute_result"
    }
   ],
   "source": [
    "# Create DataFrame for jobs\n",
    "description_file_path = os.path.join('job_descriptions', 'job4.txt')\n",
    "with open(description_file_path, 'r') as file:\n",
    "    job_description = file.read()\n",
    "df_jobs = pd.DataFrame([job_description], columns=[\"raw\"])\n",
    "df_jobs = main.job_info_extraction(df_jobs)\n",
    "df_jobs"
   ]
  },
  {
   "cell_type": "code",
   "execution_count": 49,
   "metadata": {},
   "outputs": [
    {
     "data": {
      "text/html": [
       "<div>\n",
       "<style scoped>\n",
       "    .dataframe tbody tr th:only-of-type {\n",
       "        vertical-align: middle;\n",
       "    }\n",
       "\n",
       "    .dataframe tbody tr th {\n",
       "        vertical-align: top;\n",
       "    }\n",
       "\n",
       "    .dataframe thead th {\n",
       "        text-align: right;\n",
       "    }\n",
       "</style>\n",
       "<table border=\"1\" class=\"dataframe\">\n",
       "  <thead>\n",
       "    <tr style=\"text-align: right;\">\n",
       "      <th></th>\n",
       "      <th>corpus_id</th>\n",
       "      <th>score</th>\n",
       "      <th>softmaxed</th>\n",
       "      <th>name</th>\n",
       "    </tr>\n",
       "  </thead>\n",
       "  <tbody>\n",
       "    <tr>\n",
       "      <th>0</th>\n",
       "      <td>4</td>\n",
       "      <td>-2.569773</td>\n",
       "      <td>0.660022</td>\n",
       "      <td>4_Skills_AWS_Git_Python_Azure</td>\n",
       "    </tr>\n",
       "    <tr>\n",
       "      <th>1</th>\n",
       "      <td>3</td>\n",
       "      <td>-3.971752</td>\n",
       "      <td>0.162438</td>\n",
       "      <td>3_Skills_UNRELATED_AWS_Power BI_Tableau</td>\n",
       "    </tr>\n",
       "    <tr>\n",
       "      <th>2</th>\n",
       "      <td>2</td>\n",
       "      <td>-4.400466</td>\n",
       "      <td>0.105803</td>\n",
       "      <td>3_Skills_AWS_Git_Python</td>\n",
       "    </tr>\n",
       "    <tr>\n",
       "      <th>3</th>\n",
       "      <td>1</td>\n",
       "      <td>-5.070609</td>\n",
       "      <td>0.054133</td>\n",
       "      <td>2_Skills_AWS_Git</td>\n",
       "    </tr>\n",
       "    <tr>\n",
       "      <th>4</th>\n",
       "      <td>0</td>\n",
       "      <td>-6.193891</td>\n",
       "      <td>0.017605</td>\n",
       "      <td>1_Skill_AWS</td>\n",
       "    </tr>\n",
       "  </tbody>\n",
       "</table>\n",
       "</div>"
      ],
      "text/plain": [
       "   corpus_id     score  softmaxed                                     name\n",
       "0          4 -2.569773   0.660022            4_Skills_AWS_Git_Python_Azure\n",
       "1          3 -3.971752   0.162438  3_Skills_UNRELATED_AWS_Power BI_Tableau\n",
       "2          2 -4.400466   0.105803                  3_Skills_AWS_Git_Python\n",
       "3          1 -5.070609   0.054133                         2_Skills_AWS_Git\n",
       "4          0 -6.193891   0.017605                              1_Skill_AWS"
      ]
     },
     "execution_count": 49,
     "metadata": {},
     "output_type": "execute_result"
    }
   ],
   "source": [
    "calc_cross(df_resumes, df_jobs)"
   ]
  },
  {
   "cell_type": "code",
   "execution_count": 41,
   "metadata": {},
   "outputs": [
    {
     "data": {
      "text/html": [
       "<div>\n",
       "<style scoped>\n",
       "    .dataframe tbody tr th:only-of-type {\n",
       "        vertical-align: middle;\n",
       "    }\n",
       "\n",
       "    .dataframe tbody tr th {\n",
       "        vertical-align: top;\n",
       "    }\n",
       "\n",
       "    .dataframe thead th {\n",
       "        text-align: right;\n",
       "    }\n",
       "</style>\n",
       "<table border=\"1\" class=\"dataframe\">\n",
       "  <thead>\n",
       "    <tr style=\"text-align: right;\">\n",
       "      <th></th>\n",
       "      <th>name</th>\n",
       "      <th>job_id</th>\n",
       "      <th>similarity_score</th>\n",
       "      <th>rank</th>\n",
       "      <th>interview_status</th>\n",
       "    </tr>\n",
       "  </thead>\n",
       "  <tbody>\n",
       "    <tr>\n",
       "      <th>4</th>\n",
       "      <td>4_Skills_AWS_Git_Python_Azure</td>\n",
       "      <td>0</td>\n",
       "      <td>0.365599</td>\n",
       "      <td>1.0</td>\n",
       "      <td>Selected</td>\n",
       "    </tr>\n",
       "    <tr>\n",
       "      <th>3</th>\n",
       "      <td>3_Skills_UNRELATED_AWS_Power BI_Tableau</td>\n",
       "      <td>0</td>\n",
       "      <td>0.351982</td>\n",
       "      <td>2.0</td>\n",
       "      <td>Selected</td>\n",
       "    </tr>\n",
       "    <tr>\n",
       "      <th>0</th>\n",
       "      <td>1_Skill_AWS</td>\n",
       "      <td>0</td>\n",
       "      <td>0.331589</td>\n",
       "      <td>3.0</td>\n",
       "      <td>Selected</td>\n",
       "    </tr>\n",
       "    <tr>\n",
       "      <th>2</th>\n",
       "      <td>3_Skills_AWS_Git_Python</td>\n",
       "      <td>0</td>\n",
       "      <td>0.316115</td>\n",
       "      <td>4.0</td>\n",
       "      <td>Not Selected</td>\n",
       "    </tr>\n",
       "    <tr>\n",
       "      <th>1</th>\n",
       "      <td>2_Skills_AWS_Git</td>\n",
       "      <td>0</td>\n",
       "      <td>0.293126</td>\n",
       "      <td>5.0</td>\n",
       "      <td>Not Selected</td>\n",
       "    </tr>\n",
       "  </tbody>\n",
       "</table>\n",
       "</div>"
      ],
      "text/plain": [
       "                                      name job_id  similarity_score  rank  \\\n",
       "4            4_Skills_AWS_Git_Python_Azure      0          0.365599   1.0   \n",
       "3  3_Skills_UNRELATED_AWS_Power BI_Tableau      0          0.351982   2.0   \n",
       "0                              1_Skill_AWS      0          0.331589   3.0   \n",
       "2                  3_Skills_AWS_Git_Python      0          0.316115   4.0   \n",
       "1                         2_Skills_AWS_Git      0          0.293126   5.0   \n",
       "\n",
       "  interview_status  \n",
       "4         Selected  \n",
       "3         Selected  \n",
       "0         Selected  \n",
       "2     Not Selected  \n",
       "1     Not Selected  "
      ]
     },
     "execution_count": 41,
     "metadata": {},
     "output_type": "execute_result"
    }
   ],
   "source": [
    "res, app_emb, job_emb = calc_similarity(df_resumes, df_jobs)\n",
    "res.sort_values(\"rank\")"
   ]
  },
  {
   "cell_type": "code",
   "execution_count": null,
   "metadata": {},
   "outputs": [
    {
     "data": {
      "text/html": [
       "<div>\n",
       "<style scoped>\n",
       "    .dataframe tbody tr th:only-of-type {\n",
       "        vertical-align: middle;\n",
       "    }\n",
       "\n",
       "    .dataframe tbody tr th {\n",
       "        vertical-align: top;\n",
       "    }\n",
       "\n",
       "    .dataframe thead th {\n",
       "        text-align: right;\n",
       "    }\n",
       "</style>\n",
       "<table border=\"1\" class=\"dataframe\">\n",
       "  <thead>\n",
       "    <tr style=\"text-align: right;\">\n",
       "      <th></th>\n",
       "      <th>name</th>\n",
       "      <th>job_id</th>\n",
       "      <th>similarity_score</th>\n",
       "      <th>rank</th>\n",
       "      <th>interview_status</th>\n",
       "    </tr>\n",
       "  </thead>\n",
       "  <tbody>\n",
       "    <tr>\n",
       "      <th>4</th>\n",
       "      <td>4_Skills_AWS_Git_Python_Azure</td>\n",
       "      <td>0</td>\n",
       "      <td>0.337064</td>\n",
       "      <td>1.0</td>\n",
       "      <td>Selected</td>\n",
       "    </tr>\n",
       "    <tr>\n",
       "      <th>0</th>\n",
       "      <td>1_Skill_AWS</td>\n",
       "      <td>0</td>\n",
       "      <td>0.333620</td>\n",
       "      <td>2.0</td>\n",
       "      <td>Selected</td>\n",
       "    </tr>\n",
       "    <tr>\n",
       "      <th>3</th>\n",
       "      <td>3_Skills_UNRELATED_AWS_Power BI_Tableau</td>\n",
       "      <td>0</td>\n",
       "      <td>0.309230</td>\n",
       "      <td>3.0</td>\n",
       "      <td>Selected</td>\n",
       "    </tr>\n",
       "    <tr>\n",
       "      <th>2</th>\n",
       "      <td>3_Skills_AWS_Git_Python</td>\n",
       "      <td>0</td>\n",
       "      <td>0.285010</td>\n",
       "      <td>4.0</td>\n",
       "      <td>Not Selected</td>\n",
       "    </tr>\n",
       "    <tr>\n",
       "      <th>1</th>\n",
       "      <td>2_Skills_AWS_Git</td>\n",
       "      <td>0</td>\n",
       "      <td>0.233112</td>\n",
       "      <td>5.0</td>\n",
       "      <td>Not Selected</td>\n",
       "    </tr>\n",
       "  </tbody>\n",
       "</table>\n",
       "</div>"
      ],
      "text/plain": [
       "                                      name job_id  similarity_score  rank  \\\n",
       "4            4_Skills_AWS_Git_Python_Azure      0          0.337064   1.0   \n",
       "0                              1_Skill_AWS      0          0.333620   2.0   \n",
       "3  3_Skills_UNRELATED_AWS_Power BI_Tableau      0          0.309230   3.0   \n",
       "2                  3_Skills_AWS_Git_Python      0          0.285010   4.0   \n",
       "1                         2_Skills_AWS_Git      0          0.233112   5.0   \n",
       "\n",
       "  interview_status  \n",
       "4         Selected  \n",
       "0         Selected  \n",
       "3         Selected  \n",
       "2     Not Selected  \n",
       "1     Not Selected  "
      ]
     },
     "execution_count": 25,
     "metadata": {},
     "output_type": "execute_result"
    }
   ],
   "source": [
    "res = calc_similarity(df_resumes, df_jobs)\n",
    "res.sort_values(\"rank\")"
   ]
  },
  {
   "cell_type": "code",
   "execution_count": 10,
   "metadata": {},
   "outputs": [
    {
     "data": {
      "text/html": [
       "<div>\n",
       "<style scoped>\n",
       "    .dataframe tbody tr th:only-of-type {\n",
       "        vertical-align: middle;\n",
       "    }\n",
       "\n",
       "    .dataframe tbody tr th {\n",
       "        vertical-align: top;\n",
       "    }\n",
       "\n",
       "    .dataframe thead th {\n",
       "        text-align: right;\n",
       "    }\n",
       "</style>\n",
       "<table border=\"1\" class=\"dataframe\">\n",
       "  <thead>\n",
       "    <tr style=\"text-align: right;\">\n",
       "      <th></th>\n",
       "      <th>name</th>\n",
       "      <th>raw</th>\n",
       "      <th>Skills</th>\n",
       "    </tr>\n",
       "  </thead>\n",
       "  <tbody>\n",
       "    <tr>\n",
       "      <th>0</th>\n",
       "      <td>hanna_pedersen</td>\n",
       "      <td>\\n \\n \\n \\n \\n \\n \\n \\n \\nEDUCATION \\n \\nNova...</td>\n",
       "      <td>[business, analytics, business administration,...</td>\n",
       "    </tr>\n",
       "    <tr>\n",
       "      <th>1</th>\n",
       "      <td>irene_abbateli</td>\n",
       "      <td>\\n \\n \\nIRENE ABBATELLI \\nRome, Italy \\n(+39)...</td>\n",
       "      <td>[business, analytics, data analysis, machine l...</td>\n",
       "    </tr>\n",
       "    <tr>\n",
       "      <th>2</th>\n",
       "      <td>Luca_Oeztekin</td>\n",
       "      <td>LUCA OEZTEKIN\\nLisbon, Portugal &amp; Cologne, Ger...</td>\n",
       "      <td>[analytics, artificial intelligence, modelling...</td>\n",
       "    </tr>\n",
       "    <tr>\n",
       "      <th>3</th>\n",
       "      <td>Tim_Gunkel</td>\n",
       "      <td>TIM GUNKEL  \\n \\n \\n \\n             \\n \\n \\n  ...</td>\n",
       "      <td>[business, analytics, machine learning, busine...</td>\n",
       "    </tr>\n",
       "    <tr>\n",
       "      <th>4</th>\n",
       "      <td>Tim_gunkel2</td>\n",
       "      <td>TIM GUNKEL  \\n \\n \\n \\n             \\n \\n \\n  ...</td>\n",
       "      <td>[business, analytics, machine learning, busine...</td>\n",
       "    </tr>\n",
       "    <tr>\n",
       "      <th>5</th>\n",
       "      <td>victor_bjorsvik</td>\n",
       "      <td>VICTOR BJORSVIK \\n \\nLisbon, Portugal | +47 91...</td>\n",
       "      <td>[accounting, big data, communications, busines...</td>\n",
       "    </tr>\n",
       "  </tbody>\n",
       "</table>\n",
       "</div>"
      ],
      "text/plain": [
       "              name                                                raw  \\\n",
       "0   hanna_pedersen   \\n \\n \\n \\n \\n \\n \\n \\n \\nEDUCATION \\n \\nNova...   \n",
       "1   irene_abbateli   \\n \\n \\nIRENE ABBATELLI \\nRome, Italy \\n(+39)...   \n",
       "2    Luca_Oeztekin  LUCA OEZTEKIN\\nLisbon, Portugal & Cologne, Ger...   \n",
       "3       Tim_Gunkel  TIM GUNKEL  \\n \\n \\n \\n             \\n \\n \\n  ...   \n",
       "4      Tim_gunkel2  TIM GUNKEL  \\n \\n \\n \\n             \\n \\n \\n  ...   \n",
       "5  victor_bjorsvik  VICTOR BJORSVIK \\n \\nLisbon, Portugal | +47 91...   \n",
       "\n",
       "                                              Skills  \n",
       "0  [business, analytics, business administration,...  \n",
       "1  [business, analytics, data analysis, machine l...  \n",
       "2  [analytics, artificial intelligence, modelling...  \n",
       "3  [business, analytics, machine learning, busine...  \n",
       "4  [business, analytics, machine learning, busine...  \n",
       "5  [accounting, big data, communications, busines...  "
      ]
     },
     "execution_count": 10,
     "metadata": {},
     "output_type": "execute_result"
    }
   ],
   "source": [
    "df_resumes = main.get_resumes(\"resumes\")\n",
    "df_resumes = main.resume_extraction(df_resumes)\n",
    "df_resumes"
   ]
  },
  {
   "cell_type": "code",
   "execution_count": 102,
   "metadata": {},
   "outputs": [
    {
     "name": "stdout",
     "output_type": "stream",
     "text": [
      "cross encoder:\n"
     ]
    },
    {
     "data": {
      "text/html": [
       "<div>\n",
       "<style scoped>\n",
       "    .dataframe tbody tr th:only-of-type {\n",
       "        vertical-align: middle;\n",
       "    }\n",
       "\n",
       "    .dataframe tbody tr th {\n",
       "        vertical-align: top;\n",
       "    }\n",
       "\n",
       "    .dataframe thead th {\n",
       "        text-align: right;\n",
       "    }\n",
       "</style>\n",
       "<table border=\"1\" class=\"dataframe\">\n",
       "  <thead>\n",
       "    <tr style=\"text-align: right;\">\n",
       "      <th></th>\n",
       "      <th>corpus_id</th>\n",
       "      <th>score</th>\n",
       "      <th>softmaxed</th>\n",
       "      <th>name</th>\n",
       "    </tr>\n",
       "  </thead>\n",
       "  <tbody>\n",
       "    <tr>\n",
       "      <th>0</th>\n",
       "      <td>1</td>\n",
       "      <td>3.623231</td>\n",
       "      <td>0.332022</td>\n",
       "      <td>CV_1_3</td>\n",
       "    </tr>\n",
       "    <tr>\n",
       "      <th>1</th>\n",
       "      <td>2</td>\n",
       "      <td>3.303173</td>\n",
       "      <td>0.241083</td>\n",
       "      <td>CV_1_5</td>\n",
       "    </tr>\n",
       "    <tr>\n",
       "      <th>2</th>\n",
       "      <td>3</td>\n",
       "      <td>2.982490</td>\n",
       "      <td>0.174943</td>\n",
       "      <td>CV_1_7</td>\n",
       "    </tr>\n",
       "    <tr>\n",
       "      <th>3</th>\n",
       "      <td>4</td>\n",
       "      <td>2.849244</td>\n",
       "      <td>0.153119</td>\n",
       "      <td>CV_1_9</td>\n",
       "    </tr>\n",
       "    <tr>\n",
       "      <th>4</th>\n",
       "      <td>0</td>\n",
       "      <td>2.411467</td>\n",
       "      <td>0.098833</td>\n",
       "      <td>CV_1_1</td>\n",
       "    </tr>\n",
       "  </tbody>\n",
       "</table>\n",
       "</div>"
      ],
      "text/plain": [
       "   corpus_id     score  softmaxed    name\n",
       "0          1  3.623231   0.332022  CV_1_3\n",
       "1          2  3.303173   0.241083  CV_1_5\n",
       "2          3  2.982490   0.174943  CV_1_7\n",
       "3          4  2.849244   0.153119  CV_1_9\n",
       "4          0  2.411467   0.098833  CV_1_1"
      ]
     },
     "execution_count": 102,
     "metadata": {},
     "output_type": "execute_result"
    }
   ],
   "source": [
    "print(\"cross encoder:\")\n",
    "calc_cross(df_resumes, df_jobs)"
   ]
  },
  {
   "cell_type": "code",
   "execution_count": 101,
   "metadata": {},
   "outputs": [
    {
     "name": "stdout",
     "output_type": "stream",
     "text": [
      "bag of skills - with special token:\n",
      "     name job_id  similarity_score  rank interview_status\n",
      "1  CV_1_3      0          0.812950   1.0         Selected\n",
      "2  CV_1_5      0          0.782577   2.0         Selected\n",
      "0  CV_1_1      0          0.738783   3.0         Selected\n",
      "3  CV_1_7      0          0.735222   4.0     Not Selected\n",
      "4  CV_1_9      0          0.722924   5.0     Not Selected\n"
     ]
    }
   ],
   "source": [
    "print(\"bag of skills - with special token:\")\n",
    "res, *rest = calc_similarity(df_resumes, df_jobs); print(res.sort_values(\"rank\"))"
   ]
  },
  {
   "cell_type": "code",
   "execution_count": 106,
   "metadata": {},
   "outputs": [
    {
     "name": "stdout",
     "output_type": "stream",
     "text": [
      "bag of skills - no special token:\n",
      "  applicant job_id  all-mpnet-base-v2_score  rank\n",
      "1    CV_1_3      0                    0.784   1.0\n",
      "2    CV_1_5      0                    0.754   2.0\n",
      "4    CV_1_9      0                    0.747   3.0\n",
      "3    CV_1_7      0                    0.736   4.0\n",
      "0    CV_1_1      0                    0.716   5.0\n"
     ]
    }
   ],
   "source": [
    "print(\"bag of skills - no special token:\")\n",
    "res = old_calc_similarity(df_resumes, df_jobs); print(res.sort_values(\"rank\"))"
   ]
  },
  {
   "cell_type": "code",
   "execution_count": 103,
   "metadata": {},
   "outputs": [
    {
     "name": "stdout",
     "output_type": "stream",
     "text": [
      "skill-by-skill:\n",
      "  applicant job_id  all-mpnet-base-v2_score  rank\n",
      "1    CV_1_3      0                    0.784   1.0\n",
      "2    CV_1_5      0                    0.754   2.0\n",
      "4    CV_1_9      0                    0.747   3.0\n",
      "3    CV_1_7      0                    0.736   4.0\n",
      "0    CV_1_1      0                    0.716   5.0\n"
     ]
    }
   ],
   "source": [
    "print(\"skill-by-skill:\")\n",
    "res = calc_similarity_sbs(df_resumes, df_jobs); print(res.sort_values(\"rank\"))"
   ]
  },
  {
   "cell_type": "code",
   "execution_count": null,
   "metadata": {},
   "outputs": [],
   "source": [
    "# Initialize the model once outside the loop for efficiency\n",
    "model = SentenceTransformer('all-mpnet-base-v2')\n",
    "model.max_seq_length = 30\n",
    "model.tokenizer.padding_side=\"right\""
   ]
  },
  {
   "cell_type": "code",
   "execution_count": null,
   "metadata": {},
   "outputs": [],
   "source": [
    "dir(model.tokenizer)"
   ]
  },
  {
   "cell_type": "code",
   "execution_count": 75,
   "metadata": {},
   "outputs": [
    {
     "data": {
      "text/plain": [
       "0"
      ]
     },
     "execution_count": 75,
     "metadata": {},
     "output_type": "execute_result"
    }
   ],
   "source": [
    "model.tokenizer.add_tokens(\"<space>\", special_tokens=True)"
   ]
  },
  {
   "cell_type": "code",
   "execution_count": 11,
   "metadata": {},
   "outputs": [],
   "source": [
    "import pandas as pd\n",
    "import main\n",
    "\n",
    "\n",
    "# Create DataFrame for jobs\n",
    "description_file_path = os.path.join('job_descriptions', 'job2.txt')\n",
    "with open(description_file_path, 'r') as file:\n",
    "    job_description = file.read()\n",
    "df_jobs = pd.DataFrame([job_description], columns=[\"raw\"])\n",
    "df_jobs = main.job_info_extraction(df_jobs)\n",
    "\n",
    "\n",
    "\n",
    "def add_eos(input_examples):\n",
    "        input_examples = [input_example + model.tokenizer.eos_token for input_example in input_examples]\n",
    "        return input_examples\n",
    "\n",
    "# Initialize the model once outside the loop for efficiency\n",
    "model = SentenceTransformer('all-mpnet-base-v2')\n",
    "model.max_seq_length = 30\n",
    "model.tokenizer.padding_side=\"right\"\n",
    "\n",
    "# Precompute job embeddings\n",
    "df_jobs['Skills_Text'] = df_jobs['Skills'].apply(add_eos)\n",
    "df_jobs['Skills_Text'] = df_jobs['Skills_Text'].apply(lambda x: ' '.join(sorted(set(x))) if isinstance(x, list) else '')\n",
    "\n",
    "\n",
    "df_resumes['Skills_Text'] = df_resumes['Skills'].apply(add_eos)\n",
    "df_resumes['Skills_Text'] = df_resumes['Skills_Text'].apply(lambda x: ' '.join(sorted(set(x))) if isinstance(x, list) else '')"
   ]
  },
  {
   "cell_type": "code",
   "execution_count": null,
   "metadata": {},
   "outputs": [
    {
     "data": {
      "text/html": [
       "<div>\n",
       "<style scoped>\n",
       "    .dataframe tbody tr th:only-of-type {\n",
       "        vertical-align: middle;\n",
       "    }\n",
       "\n",
       "    .dataframe tbody tr th {\n",
       "        vertical-align: top;\n",
       "    }\n",
       "\n",
       "    .dataframe thead th {\n",
       "        text-align: right;\n",
       "    }\n",
       "</style>\n",
       "<table border=\"1\" class=\"dataframe\">\n",
       "  <thead>\n",
       "    <tr style=\"text-align: right;\">\n",
       "      <th></th>\n",
       "      <th>name</th>\n",
       "      <th>raw</th>\n",
       "      <th>Skills</th>\n",
       "      <th>Skills_Text</th>\n",
       "    </tr>\n",
       "  </thead>\n",
       "  <tbody>\n",
       "    <tr>\n",
       "      <th>0</th>\n",
       "      <td>hanna_pedersen</td>\n",
       "      <td>\\n \\n \\n \\n \\n \\n \\n \\n \\nEDUCATION \\n \\nNova...</td>\n",
       "      <td>[business, analytics, business administration,...</td>\n",
       "      <td>analytics&lt;/s&gt; artificial intelligence&lt;/s&gt; busi...</td>\n",
       "    </tr>\n",
       "    <tr>\n",
       "      <th>1</th>\n",
       "      <td>irene_abbateli</td>\n",
       "      <td>\\n \\n \\nIRENE ABBATELLI \\nRome, Italy \\n(+39)...</td>\n",
       "      <td>[business, analytics, data analysis, machine l...</td>\n",
       "      <td>advertising&lt;/s&gt; analytics&lt;/s&gt; business adminis...</td>\n",
       "    </tr>\n",
       "    <tr>\n",
       "      <th>2</th>\n",
       "      <td>Luca_Oeztekin</td>\n",
       "      <td>LUCA OEZTEKIN\\nLisbon, Portugal &amp; Cologne, Ger...</td>\n",
       "      <td>[analytics, artificial intelligence, modelling...</td>\n",
       "      <td>analytics&lt;/s&gt; api&lt;/s&gt; artificial intelligence&lt;...</td>\n",
       "    </tr>\n",
       "    <tr>\n",
       "      <th>3</th>\n",
       "      <td>Tim_Gunkel</td>\n",
       "      <td>TIM GUNKEL  \\n \\n \\n \\n             \\n \\n \\n  ...</td>\n",
       "      <td>[business, analytics, machine learning, busine...</td>\n",
       "      <td>analytics&lt;/s&gt; business administration&lt;/s&gt; busi...</td>\n",
       "    </tr>\n",
       "    <tr>\n",
       "      <th>4</th>\n",
       "      <td>Tim_gunkel2</td>\n",
       "      <td>TIM GUNKEL  \\n \\n \\n \\n             \\n \\n \\n  ...</td>\n",
       "      <td>[business, analytics, machine learning, busine...</td>\n",
       "      <td>analytics&lt;/s&gt; api&lt;/s&gt; business administration&lt;...</td>\n",
       "    </tr>\n",
       "    <tr>\n",
       "      <th>5</th>\n",
       "      <td>victor_bjorsvik</td>\n",
       "      <td>VICTOR BJORSVIK \\n \\nLisbon, Portugal | +47 91...</td>\n",
       "      <td>[accounting, big data, communications, busines...</td>\n",
       "      <td>accounting&lt;/s&gt; analytics&lt;/s&gt; apache spark&lt;/s&gt; ...</td>\n",
       "    </tr>\n",
       "  </tbody>\n",
       "</table>\n",
       "</div>"
      ],
      "text/plain": [
       "              name                                                raw  \\\n",
       "0   hanna_pedersen   \\n \\n \\n \\n \\n \\n \\n \\n \\nEDUCATION \\n \\nNova...   \n",
       "1   irene_abbateli   \\n \\n \\nIRENE ABBATELLI \\nRome, Italy \\n(+39)...   \n",
       "2    Luca_Oeztekin  LUCA OEZTEKIN\\nLisbon, Portugal & Cologne, Ger...   \n",
       "3       Tim_Gunkel  TIM GUNKEL  \\n \\n \\n \\n             \\n \\n \\n  ...   \n",
       "4      Tim_gunkel2  TIM GUNKEL  \\n \\n \\n \\n             \\n \\n \\n  ...   \n",
       "5  victor_bjorsvik  VICTOR BJORSVIK \\n \\nLisbon, Portugal | +47 91...   \n",
       "\n",
       "                                              Skills  \\\n",
       "0  [business, analytics, business administration,...   \n",
       "1  [business, analytics, data analysis, machine l...   \n",
       "2  [analytics, artificial intelligence, modelling...   \n",
       "3  [business, analytics, machine learning, busine...   \n",
       "4  [business, analytics, machine learning, busine...   \n",
       "5  [accounting, big data, communications, busines...   \n",
       "\n",
       "                                         Skills_Text  \n",
       "0  analytics</s> artificial intelligence</s> busi...  \n",
       "1  advertising</s> analytics</s> business adminis...  \n",
       "2  analytics</s> api</s> artificial intelligence<...  \n",
       "3  analytics</s> business administration</s> busi...  \n",
       "4  analytics</s> api</s> business administration<...  \n",
       "5  accounting</s> analytics</s> apache spark</s> ...  "
      ]
     },
     "execution_count": 12,
     "metadata": {},
     "output_type": "execute_result"
    }
   ],
   "source": [
    "df_resumes.iloc[]"
   ]
  },
  {
   "cell_type": "markdown",
   "metadata": {},
   "source": [
    "**"
   ]
  }
 ],
 "metadata": {
  "kernelspec": {
   "display_name": "workproject",
   "language": "python",
   "name": "workproject"
  },
  "language_info": {
   "codemirror_mode": {
    "name": "ipython",
    "version": 3
   },
   "file_extension": ".py",
   "mimetype": "text/x-python",
   "name": "python",
   "nbconvert_exporter": "python",
   "pygments_lexer": "ipython3",
   "version": "3.11.9"
  }
 },
 "nbformat": 4,
 "nbformat_minor": 4
}
